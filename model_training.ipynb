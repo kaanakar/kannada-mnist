{
 "cells": [
  {
   "cell_type": "code",
   "execution_count": 1,
   "metadata": {},
   "outputs": [],
   "source": [
    "import tensorflow as tf\n",
    "from tensorflow import keras\n",
    "\n",
    "import numpy as np\n",
    "import pandas as pd"
   ]
  },
  {
   "cell_type": "code",
   "execution_count": 2,
   "metadata": {},
   "outputs": [],
   "source": [
    "from tensorflow.keras import datasets, layers, models\n",
    "from tensorflow.keras import regularizers\n",
    "from tensorflow.keras.callbacks import LambdaCallback\n",
    "from tensorflow.keras.callbacks import ModelCheckpoint"
   ]
  },
  {
   "cell_type": "code",
   "execution_count": 3,
   "metadata": {},
   "outputs": [],
   "source": [
    "from scipy.ndimage.interpolation import shift"
   ]
  },
  {
   "cell_type": "code",
   "execution_count": 4,
   "metadata": {},
   "outputs": [
    {
     "name": "stdout",
     "output_type": "stream",
     "text": [
      "input\\Dig-MNIST.csv\n",
      "input\\sample_submission.csv\n",
      "input\\test.csv\n",
      "input\\train.csv\n"
     ]
    }
   ],
   "source": [
    "import os\n",
    "for dirname, _, filenames in os.walk(\"input\"):\n",
    "    for filename in filenames:\n",
    "        print(os.path.join(dirname, filename))"
   ]
  },
  {
   "cell_type": "code",
   "execution_count": 5,
   "metadata": {},
   "outputs": [],
   "source": [
    "train_data = pd.read_csv(\"input\\\\train.csv\")"
   ]
  },
  {
   "cell_type": "code",
   "execution_count": 6,
   "metadata": {},
   "outputs": [],
   "source": [
    "y_temp = train_data.pop(\"label\")\n",
    "train_data_x = np.asarray(train_data)\n",
    "train_data_x = train_data_x.reshape(60000,28,28,1)\n",
    "train_data_y = np.asarray(y_temp)"
   ]
  },
  {
   "cell_type": "code",
   "execution_count": 7,
   "metadata": {},
   "outputs": [],
   "source": [
    "eval_data = pd.read_csv(\"input\\Dig-MNIST.csv\")"
   ]
  },
  {
   "cell_type": "code",
   "execution_count": 8,
   "metadata": {},
   "outputs": [],
   "source": [
    "y_temp = eval_data.pop(\"label\")\n",
    "eval_data_x = np.asarray(eval_data)\n",
    "eval_data_x = eval_data_x.reshape(10240,28,28,1)\n",
    "eval_data_y = np.asarray(y_temp)"
   ]
  },
  {
   "cell_type": "code",
   "execution_count": 9,
   "metadata": {},
   "outputs": [],
   "source": [
    "test_data = pd.read_csv(\"input\\\\test.csv\")"
   ]
  },
  {
   "cell_type": "code",
   "execution_count": 10,
   "metadata": {},
   "outputs": [],
   "source": [
    "test_data.pop(\"id\")\n",
    "test_data_np = np.asarray(test_data)\n",
    "test_data_np = test_data_np.reshape(5000,28,28,1)"
   ]
  },
  {
   "cell_type": "code",
   "execution_count": 11,
   "metadata": {},
   "outputs": [],
   "source": [
    "def augment_data(dataset, dataset_labels, augementation_factor=1, use_random_rotation=True, use_random_shear=True, use_random_shift=True):\n",
    "    augmented_image = []\n",
    "    augmented_image_labels = []\n",
    "\n",
    "    for num in range (0, dataset.shape[0]):\n",
    "\n",
    "        for i in range(0, augementation_factor):\n",
    "            # original image:\n",
    "            augmented_image.append(dataset[num])\n",
    "            augmented_image_labels.append(dataset_labels[num])\n",
    "\n",
    "            if use_random_rotation:\n",
    "                augmented_image.append(tf.keras.preprocessing.image.random_rotation(dataset[num], 20, row_axis=0, col_axis=1, channel_axis=2))\n",
    "                augmented_image_labels.append(dataset_labels[num])\n",
    "\n",
    "            if use_random_shear:\n",
    "                augmented_image.append(tf.keras.preprocessing.image.random_shear(dataset[num], 0.2, row_axis=0, col_axis=1, channel_axis=2))\n",
    "                augmented_image_labels.append(dataset_labels[num])\n",
    "\n",
    "            if use_random_shift:\n",
    "                augmented_image.append(tf.keras.preprocessing.image.random_shift(dataset[num], 0.2, 0.2, row_axis=0, col_axis=1, channel_axis=2))\n",
    "                augmented_image_labels.append(dataset_labels[num])\n",
    "                \n",
    "    return np.array(augmented_image), np.array(augmented_image_labels)"
   ]
  },
  {
   "cell_type": "code",
   "execution_count": 12,
   "metadata": {},
   "outputs": [],
   "source": [
    "train_data_augmented_x,train_data_augmented_y  = augment_data(train_data_x,train_data_y,augementation_factor=1)"
   ]
  },
  {
   "cell_type": "code",
   "execution_count": 13,
   "metadata": {},
   "outputs": [
    {
     "data": {
      "text/plain": [
       "(240000, 28, 28, 1)"
      ]
     },
     "execution_count": 13,
     "metadata": {},
     "output_type": "execute_result"
    }
   ],
   "source": [
    "train_data_augmented_x.shape"
   ]
  },
  {
   "cell_type": "code",
   "execution_count": 40,
   "metadata": {},
   "outputs": [],
   "source": [
    "model = models.Sequential()"
   ]
  },
  {
   "cell_type": "code",
   "execution_count": 41,
   "metadata": {},
   "outputs": [],
   "source": [
    "model.add(layers.Conv2D(28, (3, 3), activation='relu', input_shape=(28,28,1)))\n",
    "model.add(layers.BatchNormalization())\n",
    "\n",
    "model.add(layers.Conv2D(32, (3, 3), activation='relu'))\n",
    "model.add(layers.BatchNormalization())\n",
    "model.add(layers.MaxPooling2D((2, 2)))\n",
    "\n",
    "model.add(layers.Conv2D(38, (2, 2), activation='relu'))\n",
    "model.add(layers.BatchNormalization())\n",
    "\n",
    "model.add(layers.Conv2D(64, (2, 2), activation='relu'))\n",
    "model.add(layers.BatchNormalization())\n",
    "model.add(layers.MaxPooling2D((2, 2)))\n",
    "model.add(layers.Conv2D(108, (3, 3), activation='relu'))\n",
    "model.add(layers.Conv2D(128, (2, 2), activation='relu'))"
   ]
  },
  {
   "cell_type": "code",
   "execution_count": 42,
   "metadata": {},
   "outputs": [],
   "source": [
    "model.add(layers.BatchNormalization())\n",
    "model.add(layers.Flatten())\n",
    "model.add(layers.Dense(128, activation='relu'))\n",
    "model.add(layers.Dense(10, activation='softmax'))"
   ]
  },
  {
   "cell_type": "code",
   "execution_count": 43,
   "metadata": {},
   "outputs": [
    {
     "name": "stdout",
     "output_type": "stream",
     "text": [
      "Model: \"sequential_5\"\n",
      "_________________________________________________________________\n",
      "Layer (type)                 Output Shape              Param #   \n",
      "=================================================================\n",
      "conv2d_24 (Conv2D)           (None, 26, 26, 28)        280       \n",
      "_________________________________________________________________\n",
      "batch_normalization_25 (Batc (None, 26, 26, 28)        112       \n",
      "_________________________________________________________________\n",
      "conv2d_25 (Conv2D)           (None, 24, 24, 32)        8096      \n",
      "_________________________________________________________________\n",
      "batch_normalization_26 (Batc (None, 24, 24, 32)        128       \n",
      "_________________________________________________________________\n",
      "max_pooling2d_10 (MaxPooling (None, 12, 12, 32)        0         \n",
      "_________________________________________________________________\n",
      "conv2d_26 (Conv2D)           (None, 11, 11, 38)        4902      \n",
      "_________________________________________________________________\n",
      "batch_normalization_27 (Batc (None, 11, 11, 38)        152       \n",
      "_________________________________________________________________\n",
      "conv2d_27 (Conv2D)           (None, 10, 10, 64)        9792      \n",
      "_________________________________________________________________\n",
      "batch_normalization_28 (Batc (None, 10, 10, 64)        256       \n",
      "_________________________________________________________________\n",
      "max_pooling2d_11 (MaxPooling (None, 5, 5, 64)          0         \n",
      "_________________________________________________________________\n",
      "conv2d_28 (Conv2D)           (None, 3, 3, 108)         62316     \n",
      "_________________________________________________________________\n",
      "conv2d_29 (Conv2D)           (None, 2, 2, 128)         55424     \n",
      "_________________________________________________________________\n",
      "batch_normalization_29 (Batc (None, 2, 2, 128)         512       \n",
      "_________________________________________________________________\n",
      "flatten_5 (Flatten)          (None, 512)               0         \n",
      "_________________________________________________________________\n",
      "dense_18 (Dense)             (None, 128)               65664     \n",
      "_________________________________________________________________\n",
      "dense_19 (Dense)             (None, 10)                1290      \n",
      "=================================================================\n",
      "Total params: 208,924\n",
      "Trainable params: 208,344\n",
      "Non-trainable params: 580\n",
      "_________________________________________________________________\n"
     ]
    }
   ],
   "source": [
    "model.summary()"
   ]
  },
  {
   "cell_type": "code",
   "execution_count": 46,
   "metadata": {},
   "outputs": [
    {
     "name": "stdout",
     "output_type": "stream",
     "text": [
      "Epoch 1/20\n",
      "7500/7500 [==============================] - 418s 56ms/step - loss: 1.4703 - accuracy: 0.9907 - val_loss: 1.6039 - val_accuracy: 0.8569\n",
      "Epoch 2/20\n",
      "7500/7500 [==============================] - 410s 55ms/step - loss: 1.4710 - accuracy: 0.9901 - val_loss: 1.6203 - val_accuracy: 0.8409\n",
      "Epoch 3/20\n",
      "7500/7500 [==============================] - 409s 55ms/step - loss: 1.4705 - accuracy: 0.9905 - val_loss: 1.5752 - val_accuracy: 0.8856\n",
      "Epoch 4/20\n",
      "7500/7500 [==============================] - 409s 55ms/step - loss: 1.4702 - accuracy: 0.9908 - val_loss: 1.6295 - val_accuracy: 0.8313\n",
      "Epoch 5/20\n",
      "7500/7500 [==============================] - 410s 55ms/step - loss: 1.4705 - accuracy: 0.9905 - val_loss: 1.6445 - val_accuracy: 0.8166\n",
      "Epoch 6/20\n",
      "7500/7500 [==============================] - 410s 55ms/step - loss: 1.4713 - accuracy: 0.9897 - val_loss: 1.6223 - val_accuracy: 0.8386\n",
      "Epoch 7/20\n",
      "7500/7500 [==============================] - 403s 54ms/step - loss: 1.4700 - accuracy: 0.9910 - val_loss: 1.5977 - val_accuracy: 0.8630\n",
      "Epoch 8/20\n",
      "7500/7500 [==============================] - 403s 54ms/step - loss: 1.4705 - accuracy: 0.9905 - val_loss: 1.5889 - val_accuracy: 0.8720\n",
      "Epoch 9/20\n",
      "7500/7500 [==============================] - 414s 55ms/step - loss: 1.4699 - accuracy: 0.9912 - val_loss: 1.5774 - val_accuracy: 0.8837\n",
      "Epoch 10/20\n",
      "7500/7500 [==============================] - 424s 56ms/step - loss: 1.4696 - accuracy: 0.9915 - val_loss: 1.6386 - val_accuracy: 0.8222\n",
      "Epoch 11/20\n",
      "7500/7500 [==============================] - 428s 57ms/step - loss: 1.4699 - accuracy: 0.9911 - val_loss: 1.6525 - val_accuracy: 0.8079\n",
      "Epoch 12/20\n",
      "7500/7500 [==============================] - 437s 58ms/step - loss: 1.4699 - accuracy: 0.9911 - val_loss: 1.6278 - val_accuracy: 0.8329\n",
      "Epoch 13/20\n",
      "7500/7500 [==============================] - 424s 57ms/step - loss: 1.4701 - accuracy: 0.9909 - val_loss: 1.6376 - val_accuracy: 0.8232\n",
      "Epoch 14/20\n",
      "7500/7500 [==============================] - 411s 55ms/step - loss: 1.4692 - accuracy: 0.9918 - val_loss: 1.5834 - val_accuracy: 0.8776\n",
      "Epoch 15/20\n",
      "7500/7500 [==============================] - 404s 54ms/step - loss: 1.4699 - accuracy: 0.9912 - val_loss: 1.5752 - val_accuracy: 0.8858\n",
      "Epoch 16/20\n",
      "7500/7500 [==============================] - 401s 54ms/step - loss: 1.4684 - accuracy: 0.9926 - val_loss: 1.6085 - val_accuracy: 0.8522\n",
      "Epoch 17/20\n",
      "7500/7500 [==============================] - 393s 52ms/step - loss: 1.4695 - accuracy: 0.9915 - val_loss: 1.6077 - val_accuracy: 0.8530\n",
      "Epoch 18/20\n",
      "7500/7500 [==============================] - 393s 52ms/step - loss: 1.4694 - accuracy: 0.9916 - val_loss: 1.6150 - val_accuracy: 0.8459\n",
      "Epoch 19/20\n",
      "7500/7500 [==============================] - 400s 53ms/step - loss: 1.4696 - accuracy: 0.9914 - val_loss: 1.6227 - val_accuracy: 0.8381\n",
      "Epoch 20/20\n",
      "7500/7500 [==============================] - 414s 55ms/step - loss: 1.4702 - accuracy: 0.9908 - val_loss: 1.5921 - val_accuracy: 0.8687\n"
     ]
    }
   ],
   "source": [
    "model.compile(optimizer='adam',\n",
    "              loss=tf.keras.losses.SparseCategoricalCrossentropy(from_logits=True),\n",
    "              metrics=['accuracy'])\n",
    "\n",
    "history = model.fit(train_data_augmented_x, train_data_augmented_y, epochs=20, \n",
    "                    validation_data=(eval_data_x, eval_data_y))"
   ]
  },
  {
   "cell_type": "code",
   "execution_count": 47,
   "metadata": {},
   "outputs": [],
   "source": [
    "model.save_weights('saved_weights.hdf5', overwrite=True)"
   ]
  },
  {
   "cell_type": "code",
   "execution_count": 48,
   "metadata": {},
   "outputs": [
    {
     "name": "stdout",
     "output_type": "stream",
     "text": [
      "80/80 [==============================] - 2s 25ms/step - loss: 1.5921 - accuracy: 0.8687\n",
      "test loss, test acc: [1.5920648574829102, 0.8687499761581421]\n"
     ]
    }
   ],
   "source": [
    "pred = model.evaluate(eval_data_x, eval_data_y, batch_size=128)\n",
    "print(\"test loss, test acc:\", pred)"
   ]
  },
  {
   "cell_type": "code",
   "execution_count": null,
   "metadata": {},
   "outputs": [],
   "source": []
  }
 ],
 "metadata": {
  "kernelspec": {
   "display_name": "Python 3",
   "language": "python",
   "name": "python3"
  },
  "language_info": {
   "codemirror_mode": {
    "name": "ipython",
    "version": 3
   },
   "file_extension": ".py",
   "mimetype": "text/x-python",
   "name": "python",
   "nbconvert_exporter": "python",
   "pygments_lexer": "ipython3",
   "version": "3.7.9"
  }
 },
 "nbformat": 4,
 "nbformat_minor": 4
}
